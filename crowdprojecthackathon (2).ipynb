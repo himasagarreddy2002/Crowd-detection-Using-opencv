{
 "cells": [
  {
   "cell_type": "code",
   "execution_count": 1,
   "id": "6efb89a8",
   "metadata": {},
   "outputs": [],
   "source": [
    "import cv2\n",
    "\n",
    "pedestrian_cascade = cv2.CascadeClassifier('fullbody.xml')\n",
    "fullbody_cascade = cv2.CascadeClassifier('upperbody.xml')\n",
    "\n",
    "video_source = \"people.mp4\"  \n",
    "cap = cv2.VideoCapture(video_source)\n",
    "\n",
    "people_count = 0\n",
    "group_count = 0\n",
    "group_threshold = 20  \n",
    "message = \"\"\n",
    " \n",
    "while True:\n",
    "    ret, frame = cap.read()\n",
    "\n",
    "    if not ret:\n",
    "        break\n",
    "\n",
    "    gray = cv2.cvtColor(frame, cv2.COLOR_BGR2GRAY)\n",
    "\n",
    "    pedestrians = pedestrian_cascade.detectMultiScale(gray, scaleFactor=1.1, minNeighbors=5, minSize=(30, 30))\n",
    "\n",
    "    fullbodies = fullbody_cascade.detectMultiScale(gray, scaleFactor=1.1, minNeighbors=5, minSize=(30, 30))\n",
    "\n",
    "    all_people = list(pedestrians) + list(fullbodies)\n",
    "\n",
    "    frame_group_count = 0\n",
    "\n",
    "    for (x, y, w, h) in all_people:\n",
    "        if w * h > 1000:  \n",
    "            if frame_group_count == 0:\n",
    "                group_count += 1\n",
    "            frame_group_count += 1\n",
    "            color = (0, 0, 255) if frame_group_count > group_threshold else (0, 255, 0)\n",
    "            cv2.rectangle(frame, (x, y), (x + w, y + h), color, 2)\n",
    "\n",
    "    people_count = len(all_people)\n",
    "    if frame_group_count > group_threshold:\n",
    "        message = \"Crowd Formed\"\n",
    "    elif frame_group_count < group_threshold:\n",
    "        message = \"The Area is in normal state\"\n",
    "    else:\n",
    "        message = \"\"\n",
    "\n",
    "    cv2.putText(frame, f\"People Count: {people_count}\", (10, 30), cv2.FONT_HERSHEY_SIMPLEX, 1, (0, 0, 255), 2)\n",
    "    cv2.putText(frame, message, (10, 70), cv2.FONT_HERSHEY_SIMPLEX, 1, (0, 0, 255), 2)\n",
    "\n",
    "    cv2.imshow(\"People Detection\", frame)\n",
    "\n",
    "    if cv2.waitKey(1) & 0xFF == ord('q'):\n",
    "        break\n",
    "\n",
    "cap.release()\n",
    "cv2.destroyAllWindows()\n"
   ]
  },
  {
   "cell_type": "code",
   "execution_count": null,
   "id": "ef034d46",
   "metadata": {},
   "outputs": [],
   "source": []
  },
  {
   "cell_type": "code",
   "execution_count": null,
   "id": "4e076122",
   "metadata": {},
   "outputs": [],
   "source": []
  }
 ],
 "metadata": {
  "kernelspec": {
   "display_name": "Python 3",
   "language": "python",
   "name": "python3"
  },
  "language_info": {
   "codemirror_mode": {
    "name": "ipython",
    "version": 3
   },
   "file_extension": ".py",
   "mimetype": "text/x-python",
   "name": "python",
   "nbconvert_exporter": "python",
   "pygments_lexer": "ipython3",
   "version": "3.8.8"
  }
 },
 "nbformat": 4,
 "nbformat_minor": 5
}
